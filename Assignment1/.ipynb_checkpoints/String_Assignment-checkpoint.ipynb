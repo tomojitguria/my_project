{
 "cells": [
  {
   "cell_type": "code",
   "execution_count": 8,
   "metadata": {
    "id": "OG2JlAXx3VoJ"
   },
   "outputs": [
    {
     "name": "stdout",
     "output_type": "stream",
     "text": [
      "Learnbay provides\n",
      "\"Java\", \"Python\" \n",
      "classes\n"
     ]
    }
   ],
   "source": [
    "#Declare a string and store it in a variable. \n",
    "\n",
    "\n",
    "\n",
    "#Check the type and print the id of the same.\n",
    "\n",
    "\n",
    "str1 = '''Learnbay provides\n",
    "\"Java\", \"Python\" \n",
    "classes'''\n",
    "print(str1)"
   ]
  },
  {
   "cell_type": "code",
   "execution_count": null,
   "metadata": {
    "id": "wPxm3G8W3dqN"
   },
   "outputs": [],
   "source": [
    "#Which are valid/invalid strings\n",
    "1. 'This is Python class'.\n",
    "valid\n",
    "\n",
    "2. \"This is Python class\"\n",
    "valid\n",
    "\n",
    "3. '''This is Python class'''\n",
    "valid\n",
    "\n",
    "4. \"\"\"This is Python class\"\"\"\n",
    "valid/invalid\n",
    "\n",
    "5. 'This is Python's class'\n",
    "invalid\n",
    "\n",
    "6. \"Learnbay provides \"Java\", \"Python\" classes\"\n",
    "valid/invalid\n",
    "\n",
    "7. \"Learnbay provides 'Java', 'Python' classes\"\n",
    "valid\n",
    "\n",
    "8. \"This is Python's class\"\n",
    "valid\n",
    "\n",
    "9. \"\"\"Learnbay provides \"Java\", \"Python\" classes\"\"\"\n",
    "valid\n",
    "\n",
    "10. '''Learnbay provides \"Java\", \"Python\" classes'''\n",
    "valid\n",
    "\n",
    "11. '''Learnbay provides\n",
    "\"Java\", \"Python\" \n",
    "classes'''\n",
    "valid\n",
    "\n",
    "12. 'This is\n",
    "Python \n",
    "class'\n",
    "invalid\n"
   ]
  },
  {
   "cell_type": "code",
   "execution_count": 14,
   "metadata": {
    "id": "Drx8fhT23g7a"
   },
   "outputs": [
    {
     "name": "stdout",
     "output_type": "stream",
     "text": [
      "66\n",
      "id of my_str is:2676748335792 and id of my_str1 is: 2676748335664\n",
      "<class 'str'>\n"
     ]
    }
   ],
   "source": [
    "#Write the code to get the output mentioned below print statement\n",
    "my_str = \"Although that way may not be obvious at first unless you're Dutch.\"\n",
    "my_str1 = \"Although that way may not be obvious at first unless you're Dutch.\"\n",
    "\n",
    "print(len(my_str))\n",
    "#output:- The length of my_str is 66\n",
    "\n",
    "print(f'id of my_str is:{id(my_str)} and id of my_str1 is: {id(my_str1)}')\n",
    "#output:- id of my_str and my_str1 is same? - True\n",
    "# False\n",
    "print(type(my_str))\n",
    "#output:- Type of my_str is: str"
   ]
  },
  {
   "cell_type": "code",
   "execution_count": 25,
   "metadata": {
    "id": "403e-I3A3lCO"
   },
   "outputs": [
    {
     "name": "stdout",
     "output_type": "stream",
     "text": [
      "A\n",
      "h\n",
      "8\n",
      "h\n",
      "h\n",
      "8\n"
     ]
    }
   ],
   "source": [
    "#Indexing\n",
    "my_str = \"Although 8 that way may not be obvious at first unless you're Dutch\"\n",
    "#Write the code to get the output,instructions are mentioned below print statement. use indexing\n",
    "\n",
    "print(my_str[0])\n",
    "#output:- The first character in my_str is: A\n",
    "#Note:- Use positive indexing\n",
    "\n",
    "print(my_str[len(my_str)-1])\n",
    "#output:- The first character in my_str is: h\n",
    "#Note:- Use len() function.\n",
    "\n",
    "print(my_str[9])\n",
    "#output:- The character at index 10 in my_str is: c\n",
    "#Note:- Use positive indexing\n",
    "\n",
    "print(my_str[-1])\n",
    "#output:- The last character in my_str is: h\n",
    "#Note:- Use negative indexing.\n",
    "\n",
    "print(my_str[len(my_str)-1])\n",
    "#output:- The last character in my_str is: h\n",
    "#Note:- Use len() function.\n",
    "\n",
    "print(my_str[9])\n",
    "#output:- The character in my_str is: 8\n",
    "#Note:- Use positive index"
   ]
  },
  {
   "cell_type": "code",
   "execution_count": 9,
   "metadata": {
    "id": "NK_QdtsM3luu"
   },
   "outputs": [
    {
     "name": "stdout",
     "output_type": "stream",
     "text": [
      "Although that way may not be obvious at first unless you're Dutch.\n",
      "Although that way may not be obvious at first unless you're Dutch.\n",
      "Although that way may not be obvious at first unless you're Dutch.\n",
      "Although that way may not be obvious at first unless you're Dutch.\n",
      "\n",
      "Atog htwymyntb biu tfrtuls o'eDth\n",
      "Ahgttam tebo  r lsorDc\n",
      ".hctuD er'uoy sselnu tsrif ta suoivbo eb ton yam yaw taht hguohtlA\n",
      ".hctuD er'uoy sselnu tsrif ta suoivbo eb ton yam yaw taht hguohtlA\n",
      ".cu ruysen si asovoe o a a athuhl\n",
      ".cu ruysen si asovoe o a a athuhl\n",
      "\n",
      " yaw ta\n",
      "ess you\n"
     ]
    }
   ],
   "source": [
    "\n",
    "#Slicing\n",
    "my_str = \"Although that way may not be obvious at first unless you're Dutch.\"\n",
    "#Write the code to get the output,instructions are mentioned below print statement. use slicing\n",
    "print(my_str)\n",
    "#output:- You have sliced: Although that way may not be obvious at first unless you're Dutch.Without begin, \n",
    "# end and step\n",
    "\n",
    "\n",
    "print(my_str[0:len(my_str)])\n",
    "#output:- You have sliced: Although that way may not be obvious at first unless you're Dutch.with begin as 0 \n",
    "# end using len and without step\n",
    "\n",
    "\n",
    "print(my_str[::1])\n",
    "#output:- You have sliced: Although that way may not be obvious at first unless you're Dutch.without begin \n",
    "# and end but using step\n",
    "\n",
    "\n",
    "print(my_str[0:len(my_str):1])\n",
    "#output:- You have sliced: Although that way may not be obvious at first unless you're Dutch.With begin, end \n",
    "# and step\n",
    "\n",
    "print(my_str[0:len(my_str):-1])\n",
    "#output:- You have sliced:   .with using begin and end using postive values and step as negative values.\n",
    "#Slicing command should print empty string.\n",
    "\n",
    "\n",
    "print(my_str[0:len(my_str):2])\n",
    "#output:- You have sliced: Atog htwymyntb biu tfrtuls o'eDth\n",
    "\n",
    "\n",
    "print(my_str[0:len(my_str):3])\n",
    "#output:- You have sliced: Ahgttam tebo  r lsorDc\n",
    "\n",
    "\n",
    "print(my_str[::-1])\n",
    "#output:- You have sliced: .hctuD er'uoy sselnu tsrif ta suoivbo eb ton yam yaw taht hguohtlA. Use only step\n",
    "\n",
    "\n",
    "print(my_str[-1:-len(my_str)-1:-1])\n",
    "#output:- You have sliced: .hctuD er'uoy sselnu tsrif ta suoivbo eb ton yam yaw taht hguohtlA. \n",
    "# Use begin end and step.\n",
    "\n",
    "\n",
    "print(my_str[::-2])\n",
    "#output:- You have sliced: .cu ruysen si asovoe o a a athuhl. use only step\n",
    "\n",
    "\n",
    "print(my_str[-1:-len(my_str)-1:-2])\n",
    "#output:- You have sliced: .cu ruysen si asovoe o a a athuhl. use begin, end and step.\n",
    "\n",
    "\n",
    "print(my_str[10:17:-1])\n",
    "#What will be the output?\n",
    "\n",
    "\n",
    "print(my_str[17:10:-1])\n",
    "#output:- You have sliced: yaw ta, Using begin, end and step.\n",
    "\n",
    "print(my_str[49:56:1])\n",
    "\n",
    "#output:- You have sliced: ess you. Using begin, end and step.\n"
   ]
  },
  {
   "cell_type": "code",
   "execution_count": null,
   "metadata": {},
   "outputs": [],
   "source": []
  },
  {
   "cell_type": "code",
   "execution_count": 53,
   "metadata": {
    "id": "qUSYa5x-3n5j"
   },
   "outputs": [
    {
     "name": "stdout",
     "output_type": "stream",
     "text": [
      "Learnbay Python\n",
      "LearnbayLearnbayLearnbay\n"
     ]
    },
    {
     "ename": "TypeError",
     "evalue": "can't multiply sequence by non-int of type 'float'",
     "output_type": "error",
     "traceback": [
      "\u001b[1;31m---------------------------------------------------------------------------\u001b[0m",
      "\u001b[1;31mTypeError\u001b[0m                                 Traceback (most recent call last)",
      "\u001b[1;32m<ipython-input-53-d8246b3b7ab8>\u001b[0m in \u001b[0;36m<module>\u001b[1;34m\u001b[0m\n\u001b[0;32m     21\u001b[0m \u001b[1;33m\u001b[0m\u001b[0m\n\u001b[0;32m     22\u001b[0m \u001b[1;31m#Error: TypeError: can't multiply sequence by non-int of type 'float'\u001b[0m\u001b[1;33m\u001b[0m\u001b[1;33m\u001b[0m\u001b[1;33m\u001b[0m\u001b[0m\n\u001b[1;32m---> 23\u001b[1;33m \u001b[0mprint\u001b[0m\u001b[1;33m(\u001b[0m\u001b[1;34m'Learnbay'\u001b[0m \u001b[1;33m*\u001b[0m\u001b[1;36m3.0\u001b[0m\u001b[1;33m)\u001b[0m\u001b[1;33m\u001b[0m\u001b[1;33m\u001b[0m\u001b[0m\n\u001b[0m\u001b[0;32m     24\u001b[0m \u001b[1;33m\u001b[0m\u001b[0m\n\u001b[0;32m     25\u001b[0m \u001b[1;31m#Error: TypeError: can't multiply sequence by non-int of type 'str'\u001b[0m\u001b[1;33m\u001b[0m\u001b[1;33m\u001b[0m\u001b[1;33m\u001b[0m\u001b[0m\n",
      "\u001b[1;31mTypeError\u001b[0m: can't multiply sequence by non-int of type 'float'"
     ]
    }
   ],
   "source": [
    "#Basic operation on string\n",
    "str1 = 'Learnbay'\n",
    "str2 = 'Python'\n",
    "\n",
    "#Write the code to get the output,instructions are mentioned below.\n",
    "#Output is: Learnbay Python\n",
    "print(str1+\" \"+str2)\n",
    "\n",
    "#Error: TypeError: can only concatenate str (not \"int\") to str\n",
    "\n",
    "# print(str1+10)\n",
    "\n",
    "#Error: TypeError: can only concatenate str (not \"float\") to str\n",
    "\n",
    "# print(str1+2.1)\n",
    "\n",
    "\n",
    "#Find below Output\n",
    "#Output is: LearnbayLearnbayLearnbay\n",
    "print('Learnbay' *3)\n",
    "\n",
    "#Error: TypeError: can't multiply sequence by non-int of type 'float'\n",
    "# print('Learnbay' *3.0)\n",
    "\n",
    "#Error: TypeError: can't multiply sequence by non-int of type 'str'\n",
    "\n"
   ]
  },
  {
   "cell_type": "code",
   "execution_count": 57,
   "metadata": {
    "id": "gREffmnr3s-p"
   },
   "outputs": [
    {
     "name": "stdout",
     "output_type": "stream",
     "text": [
      "True\n",
      "False\n",
      "False\n",
      "True\n",
      "True\n",
      "False\n"
     ]
    }
   ],
   "source": [
    "#Find below Output\n",
    "str1 = 'Python'\n",
    "str2 = 'Python'\n",
    "str3 = 'Python$'\n",
    "str4 = 'Python$'\n",
    "\n",
    "#print True by using identity operator between str1 and str2\n",
    "\n",
    "print(str1 is str2)\n",
    "#print False by using identity operator between str1 and str3\n",
    "print(str1 is str3)\n",
    "\n",
    "#print False by using identity operator between str4 and str3\n",
    "print(str4 is str3)\n",
    "\n",
    "#Check if P is available in str1 and print True by using membership operator\n",
    "print('P' in str1)\n",
    "\n",
    "#Check if $ is available in str3 and print True by using membership operator\n",
    "print('$' in str3)\n",
    "\n",
    "#Check if N is available in str3 and print False by using membership operator\n",
    "print('N' in str3)\n",
    "\n"
   ]
  },
  {
   "cell_type": "code",
   "execution_count": 62,
   "metadata": {
    "id": "QNFjxDr73u2H"
   },
   "outputs": [
    {
     "ename": "TypeError",
     "evalue": "'str' object does not support item assignment",
     "output_type": "error",
     "traceback": [
      "\u001b[1;31m---------------------------------------------------------------------------\u001b[0m",
      "\u001b[1;31mTypeError\u001b[0m                                 Traceback (most recent call last)",
      "\u001b[1;32m<ipython-input-62-f04c7f946959>\u001b[0m in \u001b[0;36m<module>\u001b[1;34m\u001b[0m\n\u001b[0;32m      3\u001b[0m \u001b[1;31m#write the code to replace 'Python' with 'Java' and you should get below error.\u001b[0m\u001b[1;33m\u001b[0m\u001b[1;33m\u001b[0m\u001b[1;33m\u001b[0m\u001b[0m\n\u001b[0;32m      4\u001b[0m \u001b[1;31m#TypeError: 'str' object does not support item assignment.\u001b[0m\u001b[1;33m\u001b[0m\u001b[1;33m\u001b[0m\u001b[1;33m\u001b[0m\u001b[0m\n\u001b[1;32m----> 5\u001b[1;33m \u001b[0mmy_str\u001b[0m\u001b[1;33m[\u001b[0m\u001b[1;36m8\u001b[0m\u001b[1;33m]\u001b[0m \u001b[1;33m=\u001b[0m \u001b[1;34m'J'\u001b[0m\u001b[1;33m\u001b[0m\u001b[1;33m\u001b[0m\u001b[0m\n\u001b[0m\u001b[0;32m      6\u001b[0m \u001b[1;33m\u001b[0m\u001b[0m\n",
      "\u001b[1;31mTypeError\u001b[0m: 'str' object does not support item assignment"
     ]
    }
   ],
   "source": [
    "#Complete the below code\n",
    "str1 = 'This is Python class'\n",
    "#write the code to replace 'Python' with 'Java' and you should get below error.\n",
    "#TypeError: 'str' object does not support item assignment.\n",
    "my_str[8] = 'J'\n",
    "\n"
   ]
  },
  {
   "cell_type": "code",
   "execution_count": 2,
   "metadata": {
    "id": "-JgFbPmn3w3D"
   },
   "outputs": [
    {
     "name": "stdout",
     "output_type": "stream",
     "text": [
      "True\n",
      "True\n",
      "False\n",
      "False\n"
     ]
    }
   ],
   "source": [
    "str1 = 'A'\n",
    "str2 = 'A'\n",
    "#Compare str1 and str2 and print True using comparison operator\n",
    "print(str1==str2)\n",
    "\n",
    "#Compare str1 and str2 and print True using equality operator\n",
    "print(str1==str2)\n",
    "\n",
    "#Compare str1 and str2 and print False using equality operator\n",
    "print(str1!=str2)\n",
    "\n",
    "#Compare str1 and str2 and print False using comparison operator\n",
    "print(str1!=str2)\n"
   ]
  },
  {
   "cell_type": "code",
   "execution_count": 6,
   "metadata": {
    "id": "fJ46_L-53yhW"
   },
   "outputs": [
    {
     "name": "stdout",
     "output_type": "stream",
     "text": [
      "True\n",
      "True\n",
      "False\n",
      "False\n"
     ]
    }
   ],
   "source": [
    "str1 = 'A'\n",
    "str2 = 'a'\n",
    "#Compare str1 and str2 and print True using comparison operator\n",
    "print(str1!=str2)\n",
    "\n",
    "#Compare str1 and str2 and print True using equality operator\n",
    "print(str1!=str2)\n",
    "\n",
    "#Compare str1 and str2 and print False using equality operator\n",
    "print(str1==str2)\n",
    "\n",
    "#Compare str1 and str2 and print False using comparison operator\n",
    "print(str1==str2)\n"
   ]
  },
  {
   "cell_type": "code",
   "execution_count": 20,
   "metadata": {
    "id": "e-Lr9va330gi"
   },
   "outputs": [
    {
     "name": "stdout",
     "output_type": "stream",
     "text": [
      "True\n",
      "False\n"
     ]
    }
   ],
   "source": [
    "str1 = 'A'\n",
    "str2 = '65'\n",
    "#Compare str1 and str2 using comparison operator and it should give below error.\n",
    "#Error: TypeError: '>=' not supported between instances of 'str' and 'int'\n",
    "# print(not(str1 > 65))\n",
    "#Compare str1 and str2 and print True using equality operator\n",
    "print(str1!=str2)\n",
    "\n",
    "#Compare str1 and str2 and print False using equality operator\n",
    "print(str1==str2)\n"
   ]
  },
  {
   "cell_type": "code",
   "execution_count": 16,
   "metadata": {
    "id": "JO04jmpN32Im"
   },
   "outputs": [
    {
     "name": "stdout",
     "output_type": "stream",
     "text": [
      "True\n",
      "True\n",
      "False\n",
      "False\n"
     ]
    }
   ],
   "source": [
    "str1 = 'Python'\n",
    "str2 = 'Python'\n",
    "#Compare str1 and str2 and print True using comparison operator\n",
    "print(str1==str2)\n",
    "\n",
    "#Compare str1 and str2 and print True using equality operator\n",
    "print(str1==str2)\n",
    "\n",
    "#Compare str1 and str2 and print False using equality operator\n",
    "print(str1!=str2)\n",
    "\n",
    "#Compare str1 and str2 and print False using comparison operator\n",
    "print(str1!=str2)\n"
   ]
  },
  {
   "cell_type": "code",
   "execution_count": 17,
   "metadata": {
    "id": "nmVAYYC_35ip"
   },
   "outputs": [
    {
     "name": "stdout",
     "output_type": "stream",
     "text": [
      "False\n",
      "False\n",
      "True\n",
      "True\n"
     ]
    }
   ],
   "source": [
    "str1 = 'Python'\n",
    "str2 = 'python'\n",
    "#Compare str1 and str2 and print True using comparison operator\n",
    "print(str1==str2)\n",
    "\n",
    "#Compare str1 and str2 and print True using equality operator\n",
    "print(str1==str2)\n",
    "\n",
    "#Compare str1 and str2 and print False using equality operator\n",
    "print(str1!=str2)\n",
    "\n",
    "#Compare str1 and str2 and print False using comparison operator\n",
    "print(str1!=str2)\n"
   ]
  },
  {
   "cell_type": "code",
   "execution_count": 25,
   "metadata": {
    "id": "7ulv5ith37OJ"
   },
   "outputs": [
    {
     "name": "stdout",
     "output_type": "stream",
     "text": [
      "\n",
      "Python\n",
      "False\n",
      "True\n"
     ]
    }
   ],
   "source": [
    "a = 'Python'\n",
    "b = ''\n",
    "\n",
    "#Apply logical opereators (and, or & not) on above string values and observe the output.\n",
    "print(a and b)\n",
    "print(a or b)\n",
    "print(not(a))\n",
    "print(not(b))\n",
    "# print()"
   ]
  },
  {
   "cell_type": "code",
   "execution_count": 26,
   "metadata": {
    "id": "Yg_gsZBL383n"
   },
   "outputs": [
    {
     "name": "stdout",
     "output_type": "stream",
     "text": [
      "\n",
      "\n",
      "True\n",
      "True\n"
     ]
    }
   ],
   "source": [
    "a = ''\n",
    "b = ''\n",
    "\n",
    "#Apply logical opereators (and, or & not) on above string values and observe the output.\n",
    "print(a and b)\n",
    "print(a or b)\n",
    "print(not(a))\n",
    "print(not(b))"
   ]
  },
  {
   "cell_type": "code",
   "execution_count": 27,
   "metadata": {
    "id": "cIWkP9Hf3-q5"
   },
   "outputs": [
    {
     "name": "stdout",
     "output_type": "stream",
     "text": [
      "learnbay\n",
      "Python\n",
      "False\n",
      "False\n"
     ]
    }
   ],
   "source": [
    "a = 'Python'\n",
    "b = 'learnbay'\n",
    "\n",
    "#Apply logical opereators (and, or & not) on above string values and observe the output.\n",
    "print(a and b)\n",
    "print(a or b)\n",
    "print(not(a))\n",
    "print(not(b))"
   ]
  },
  {
   "cell_type": "code",
   "execution_count": 6,
   "metadata": {
    "id": "Y0Ot_E704AX5"
   },
   "outputs": [
    {
     "name": "stdout",
     "output_type": "stream",
     "text": [
      "7\n",
      "7\n",
      "9\n",
      "11\n",
      "11\n",
      "63\n",
      "63\n"
     ]
    }
   ],
   "source": [
    "my_str = \"Although 8 that way may not be obvious at first unless you're Dutch\"\n",
    "\n",
    "# #Write the code to get the total count of 't' in above string. Use find() and index() method.\n",
    "# #Solution 1\n",
    "# count =0\n",
    "# for i in my_str:\n",
    "#     if i=='t':\n",
    "#         count = count+1\n",
    "# print (count)\n",
    "\n",
    "#Solution 2\n",
    "# my_str.count('t')\n",
    "\n",
    "#Solution 3\n",
    "count =0\n",
    "pos = -1\n",
    "while True:\n",
    "    pos = my_str.find('t', pos+1)\n",
    "    if pos == -1:\n",
    "        break\n",
    "    else:\n",
    "        count +=1\n",
    "print(count)\n",
    "\n",
    "#Solution 4\n",
    "count =0\n",
    "pos = -1\n",
    "while True:    \n",
    "    try:\n",
    "        pos = my_str.index('t',pos+1,len(my_str))\n",
    "        count +=1\n",
    "    except:\n",
    "        break\n",
    "print(count)\n",
    "\n",
    "# #Write the code to get the index of '8' in my_str. Use find() and index() method.\n",
    "t = my_str.index('8')\n",
    "print(t)\n",
    "\n",
    "# #What will be the output of below code? \n",
    "print(my_str.find('that'))\n",
    "\n",
    "\n",
    "# print(my_str.index('the'))\n",
    "\n",
    "\n",
    "print(my_str.find('t', 9, 15))\n",
    "\n",
    "\n",
    "print(my_str.rfind('u'))\n",
    "\n",
    "\n",
    "print(my_str.rindex('u'))\n",
    "\n"
   ]
  },
  {
   "cell_type": "code",
   "execution_count": 53,
   "metadata": {
    "id": "Gommq59Q4CMi"
   },
   "outputs": [
    {
     "name": "stdout",
     "output_type": "stream",
     "text": [
      "Python\n",
      "Python\n",
      "Python\n"
     ]
    }
   ],
   "source": [
    "#W A P which applies strip() method if any string, which will be taken from user, starts and ends with space, or applies \n",
    "#rrstrip() method if that string only ends with space or applies lstrip() method if that string only starts with a space.\n",
    "\n",
    "#For example:-\n",
    "#input:- '    Python   '\n",
    "str1 = '    Python   '\n",
    "print(str1.strip())\n",
    "#output:- 'Python'\n",
    "\n",
    "str1 = '    Python'\n",
    "print(str1.lstrip())\n",
    "#output:- 'Python'\n",
    "\n",
    "str1 = 'Python   '\n",
    "print(str1.rstrip())\n",
    "#output:- 'Python'"
   ]
  },
  {
   "cell_type": "code",
   "execution_count": 54,
   "metadata": {
    "id": "9IUy-cpS4Dtt"
   },
   "outputs": [
    {
     "name": "stdout",
     "output_type": "stream",
     "text": [
      "ALTHOUGH 8 THAT WAY MAY NOT BE OBVIOUS AT FIRST UNLESS YOU'RE DUTCH\n",
      "although 8 that way may not be obvious at first unless you're dutch\n",
      "aLTHOUGH 8 THAT WAY MAY NOT BE OBVIOUS AT FIRST UNLESS YOU'RE dUTCH\n"
     ]
    }
   ],
   "source": [
    "my_str = \"Although 8 that way may not be obvious at first unless you're Dutch\"\n",
    "\n",
    "#Write the code to convert all alphabets in my_str into upper case.\n",
    "print(my_str.upper())\n",
    "\n",
    "#Write the code to convert all alphabets in my_str into lower case.\n",
    "print(my_str.lower())\n",
    "\n",
    "#Write the code to swap the cases of all alphabets in my_str.(lower to upper and upper to lower)\n",
    "print(my_str.swapcase())\n",
    "\n"
   ]
  },
  {
   "cell_type": "code",
   "execution_count": 7,
   "metadata": {
    "id": "-BjS-z674HKW"
   },
   "outputs": [
    {
     "name": "stdout",
     "output_type": "stream",
     "text": [
      "We\n",
      "are\n",
      "learning\n",
      "Python\n"
     ]
    }
   ],
   "source": [
    "#Write the code which takes one string from user and if it starts with small case letter then convert it to\n",
    "# corresponding \n",
    "#capital letter otherwise if starts with capital letters then convert first character of every word in that \n",
    "# string into capital.\n",
    "\n",
    "str1 = 'We are learning Python'\n"
   ]
  },
  {
   "cell_type": "code",
   "execution_count": null,
   "metadata": {
    "id": "-MCuDy5J4JQS"
   },
   "outputs": [],
   "source": [
    "#Take a string from user and check if it is:-\n",
    "#     1. alphanumeric\n",
    "#     2. alphabets\n",
    "#     3. digit\n",
    "#     4. all letters are in lower case\n",
    "#     5. all letters are in upper case\n",
    "#     6. in title case\n",
    "#     7. a space character\n",
    "#     8. numeric\n",
    "#     9. all number elements in string are decimal\n",
    "str1 = input('Enter a string:')\n",
    "if str1.isalnum():\n",
    "    print('string is alphanumeric')\n",
    "str2 = input('Enter a string:')\n",
    "if str2.isalpha():\n",
    "    print('string is alphabets')\n",
    "str3 = input('Enter a digit:')\n",
    "if str3.isdigit():\n",
    "    print('digits')\n",
    "str4 = input('Enter a lower case:')\n",
    "if str4.islower():\n",
    "    print('all characters in lower case')\n",
    "str5 = input('Enter upper case:')\n",
    "if str5.isupper():\n",
    "    print('all characters in upper case')\n",
    "str6 = input('Enter title:')\n",
    "if str6.istitle():\n",
    "    print('string is in title case')\n",
    "str7 = input('Enter space character:')\n",
    "if str7.isspace():\n",
    "    print('space character')\n",
    "    \n",
    "num = input('Enter a string:')\n",
    "if num.isnumeric():\n",
    "    print('string is numeric')\n",
    "deci = input('Enter a value')\n",
    "if deci.isdecimal():\n",
    "    print('string is decimal')"
   ]
  },
  {
   "cell_type": "code",
   "execution_count": 11,
   "metadata": {
    "id": "tiTN-4ik4KAG"
   },
   "outputs": [
    {
     "name": "stdout",
     "output_type": "stream",
     "text": [
      "Enter a string:if\n",
      "True\n"
     ]
    }
   ],
   "source": [
    "#W A P which takes a string as an input and prints True if the string is valid identifier else returns False.\n",
    "#Sample Input:- 'abc', 'abc1', 'ab1c', '1abc', 'abc$', '_abc', 'if'\n",
    "\n",
    "str1 = input('Enter a string:')\n",
    "print(str1.isidentifier())"
   ]
  },
  {
   "cell_type": "code",
   "execution_count": 6,
   "metadata": {
    "id": "tAMkSIN84MPe"
   },
   "outputs": [
    {
     "name": "stdout",
     "output_type": "stream",
     "text": [
      "True\n",
      "False\n",
      "False\n",
      "True\n"
     ]
    }
   ],
   "source": [
    "#What will be output of below code?\n",
    "s = chr(65) + chr(97)\n",
    "print(s.isprintable())\n",
    "\n",
    "s = chr(27) + chr(97)\n",
    "print(s.isprintable())\n",
    "\n",
    "s = '\\n'\n",
    "print(s.isprintable())\n",
    "\n",
    "s = ''\n",
    "print(s.isprintable())"
   ]
  },
  {
   "cell_type": "code",
   "execution_count": 1,
   "metadata": {
    "id": "pU9Os0mD4Pk1"
   },
   "outputs": [
    {
     "name": "stdout",
     "output_type": "stream",
     "text": [
      "True\n",
      "True\n",
      "True\n",
      "True\n",
      "False\n",
      "False\n"
     ]
    }
   ],
   "source": [
    "#What will be output of below code?\n",
    "my_string = '  '\n",
    "print(my_string.isascii())\n",
    "\n",
    "my_string = 'Studytonight'\n",
    "print(my_string.isascii())\n",
    "\n",
    "my_string = 'Study tonight'\n",
    "print(my_string.isascii())\n",
    "\n",
    "my_string = 'Studytonight@123'\n",
    "print(my_string.isascii())\n",
    "\n",
    "my_string = '°'\n",
    "print(my_string.isascii())\n",
    "\n",
    "my_string = 'ö'\n",
    "print(my_string.isascii())"
   ]
  },
  {
   "cell_type": "code",
   "execution_count": 2,
   "metadata": {
    "id": "VsLV8FF74QTB"
   },
   "outputs": [
    {
     "name": "stdout",
     "output_type": "stream",
     "text": [
      "The strings are equal.\n"
     ]
    }
   ],
   "source": [
    "#What will be the output of below code?\n",
    "firstString = \"der Fluß\"\n",
    "secondString = \"der Fluss\"\n",
    "\n",
    "if firstString.casefold() == secondString.casefold():\n",
    "    print('The strings are equal.')\n",
    "else:\n",
    "    print('The strings are not equal.')"
   ]
  },
  {
   "cell_type": "code",
   "execution_count": 3,
   "metadata": {
    "id": "1m0U7jLa4Wjf"
   },
   "outputs": [
    {
     "name": "stdout",
     "output_type": "stream",
     "text": [
      "python**\n",
      "**python\n",
      "**python**\n"
     ]
    }
   ],
   "source": [
    "#Write the code to get below output\n",
    "#O/P 1:- python** (using ljust method)\n",
    "str1 = 'python'\n",
    "print(str1.ljust(8,'*'))\n",
    "\n",
    "#Write the code to get below output\n",
    "#O/P 1:- **python (using rjust method)\n",
    "print(str1.rjust(8,'*'))\n",
    "\n",
    "#Write the code to get below output\n",
    "#O/P 1:- **python** (using rjust method)\n",
    "print(str1.center(10,'*'))"
   ]
  },
  {
   "cell_type": "code",
   "execution_count": 14,
   "metadata": {
    "id": "cRVkvW6s4YKK"
   },
   "outputs": [
    {
     "name": "stdout",
     "output_type": "stream",
     "text": [
      "45\n"
     ]
    }
   ],
   "source": [
    "#Write a Python program to find the length of the my_str:-\n",
    "\n",
    "#Input:- 'Write a Python program to find the length of the my_str'\n",
    "#Output:- 55\n",
    "my_str='peter piper picked a peck of pickled peppers.'\n",
    "print(len(my_str))"
   ]
  },
  {
   "cell_type": "code",
   "execution_count": 3,
   "metadata": {
    "id": "SjABWI284Zuz"
   },
   "outputs": [
    {
     "data": {
      "text/plain": [
       "9"
      ]
     },
     "execution_count": 3,
     "metadata": {},
     "output_type": "execute_result"
    }
   ],
   "source": [
    "#Write a Python program to find the total number of times letter 'p' is appeared in the below string:-\n",
    "    \n",
    "#Input:- 'peter piper picked a peck of pickled peppers.'\n",
    "#Output:- 9\n",
    "str1='peter piper picked a peck of pickled peppers.'\n",
    "str1.count('p')\n"
   ]
  },
  {
   "cell_type": "code",
   "execution_count": 8,
   "metadata": {
    "id": "-iZtqbEo4bQp"
   },
   "outputs": [
    {
     "name": "stdout",
     "output_type": "stream",
     "text": [
      "0\n",
      "6\n",
      "8\n",
      "12\n",
      "21\n",
      "29\n",
      "37\n",
      "39\n",
      "40\n"
     ]
    }
   ],
   "source": [
    "#Write a Python Program, to print all the indexes of all occurences of letter 'p' appeared in the string:-\n",
    "    \n",
    "#Input:- 'peter piper picked a peck of pickled peppers.'\n",
    "#Output:- \n",
    "# 0\n",
    "# 6\n",
    "# 8\n",
    "# 12\n",
    "# 21\n",
    "# 29\n",
    "# 37\n",
    "# 39\n",
    "# 40\n",
    "\n",
    "my_str='peter piper picked a peck of pickled peppers.'\n",
    "count =0\n",
    "pos = -1\n",
    "while True:    \n",
    "    try:\n",
    "        pos = my_str.index('p',pos+1,len(my_str))\n",
    "        print(pos)\n",
    "    except:\n",
    "        break\n"
   ]
  },
  {
   "cell_type": "code",
   "execution_count": 5,
   "metadata": {
    "id": "_A8Eu8f84daM"
   },
   "outputs": [
    {
     "name": "stdout",
     "output_type": "stream",
     "text": [
      "['peter', 'piper', 'picked', 'a', 'peck', 'of', 'pickled', 'peppers.']\n"
     ]
    }
   ],
   "source": [
    "#Write a python program to find below output:-\n",
    "\n",
    "#Input:- 'peter piper picked a peck of pickled peppers.'\n",
    "#Output:- ['peter', 'piper', 'picked', 'a', 'peck', 'of', 'pickled', 'peppers.']\n",
    "str1='peter piper picked a peck of pickled peppers.'\n",
    "lst = str1.split(' ')\n",
    "print(lst)\n"
   ]
  },
  {
   "cell_type": "code",
   "execution_count": 17,
   "metadata": {
    "id": "juh7tQuL4fNc"
   },
   "outputs": [
    {
     "name": "stdout",
     "output_type": "stream",
     "text": [
      "peppers. pickled of peck a picked piper peter \n"
     ]
    }
   ],
   "source": [
    "#Write a python program to find below output:-\n",
    "\n",
    "#Input:- 'peter piper picked a peck of pickled peppers.'\n",
    "#Output:- 'peppers. pickled of peck a picked piper peter'\n",
    "str1 = 'peter piper picked a peck of pickled peppers.'\n",
    "lst = str1.split()\n",
    "i=0\n",
    "str = ''\n",
    "while i < len(lst):\n",
    "    str = lst[i]+ ' '+str\n",
    "    i += 1\n",
    "print(str)"
   ]
  },
  {
   "cell_type": "code",
   "execution_count": 23,
   "metadata": {
    "id": "aaHQYz194fW7"
   },
   "outputs": [
    {
     "name": "stdout",
     "output_type": "stream",
     "text": [
      ".sreppep delkcip fo kcep a dekcip repip retep \n"
     ]
    }
   ],
   "source": [
    "#Write a python program to find below output:-\n",
    "\n",
    "#Input:- 'peter piper picked a peck of pickled peppers.'\n",
    "#Output:- '.sreppep delkcip fo kcep a dekcip repip retep'\n",
    "\n",
    "str1 = 'peter piper picked a peck of pickled peppers.'\n",
    "lst = str1.split()\n",
    "str2 = ''\n",
    "for ele in lst:\n",
    "     str2 = ele[::-1] + ' '+str2\n",
    "print(str2)"
   ]
  },
  {
   "cell_type": "code",
   "execution_count": 5,
   "metadata": {
    "id": "LSgj9glC4feI"
   },
   "outputs": [
    {
     "data": {
      "text/plain": [
       "'retep repip dekcip a kcep fo delkcip .sreppep'"
      ]
     },
     "execution_count": 5,
     "metadata": {},
     "output_type": "execute_result"
    }
   ],
   "source": [
    "#Write a python program to find below output:-\n",
    "\n",
    "#Input:- 'peter piper picked a peck of pickled peppers.'\n",
    "#Output:- 'retep repip dekcip a kcep fo delkcip .sreppep'\n",
    "\n",
    "str1 = 'peter piper picked a peck of pickled peppers.'\n",
    "inp_str1 = str1.split()\n",
    "' '.join([ele[::-1] for ele in inp_str1])"
   ]
  },
  {
   "cell_type": "code",
   "execution_count": 24,
   "metadata": {
    "id": "WUxPAkY94foo"
   },
   "outputs": [
    {
     "name": "stdout",
     "output_type": "stream",
     "text": [
      "Peter Piper Picked A Peck Of Pickled Peppers.\n"
     ]
    }
   ],
   "source": [
    "#Write a python program to find below output:-\n",
    "\n",
    "#Input:- 'peter piper picked a peck of pickled peppers.'\n",
    "#Output:- 'Peter Piper Picked A Peck Of Pickled Peppers.'\n",
    "str1 = 'peter piper picked a peck of pickled peppers.'\n",
    "print(str1.title())\n"
   ]
  },
  {
   "cell_type": "code",
   "execution_count": 25,
   "metadata": {
    "id": "IT1NSPxA4mww"
   },
   "outputs": [
    {
     "name": "stdout",
     "output_type": "stream",
     "text": [
      "Peter piper picked a peck of pickled peppers.\n"
     ]
    }
   ],
   "source": [
    "#Write a python program to find below output:-\n",
    "\n",
    "#Input:- 'Peter Piper Picked A Peck Of Pickled Peppers.'\n",
    "#Output:- 'Peter piper picked a peck of pickled peppers.'\n",
    "str1 = 'peter piper picked a peck of pickled peppers.'\n",
    "print(str1.capitalize())\n"
   ]
  },
  {
   "cell_type": "code",
   "execution_count": 30,
   "metadata": {
    "id": "3Gg65vSc4m3C"
   },
   "outputs": [
    {
     "data": {
      "text/plain": [
       "29"
      ]
     },
     "execution_count": 30,
     "metadata": {},
     "output_type": "execute_result"
    }
   ],
   "source": [
    "#Write a python program to implement index method. If sub_str is found in my_str then it will print the index\n",
    "# of first occurrence of first character of matching string in my_str:-\n",
    "\n",
    "#Input:- my_str = 'Peter Piper Picked A Peck Of Pickled Peppers.', sub_str = 'Pickl'\n",
    "#Output:- 29\n",
    "my_str = 'peter piper picked a peck of pickled peppers.'\n",
    "sub_str = 'pickl'\n",
    "my_str.index(sub_str)\n"
   ]
  },
  {
   "cell_type": "code",
   "execution_count": 39,
   "metadata": {
    "id": "iFRhp_JI4m6k"
   },
   "outputs": [
    {
     "name": "stdout",
     "output_type": "stream",
     "text": [
      "Peter Piper Picked A Pack Of Pickled Peppers.\n"
     ]
    }
   ],
   "source": [
    "#Write a python program to implement replace method. If sub_str is found in my_str then it will replace the first \n",
    "#occurrence of sub_str with new_str else it will will print sub_str not found:-\n",
    "\n",
    "#Input:- my_str = 'Peter Piper Picked A Peck Of Pickled Peppers.', sub_str = 'Peck', new_str = 'Pack'\n",
    "#Output:- 'Peter Piper Picked A Pack Of Pickled Peppers.'\n",
    "my_str = 'Peter Piper Picked A Peck Of Pickled Peppers.'\n",
    "sub_str = 'Peck'\n",
    "new_str = 'Pack'\n",
    "if (my_str.find(sub_str)):\n",
    "    print(my_str.replace(sub_str,new_str))\n",
    "else:\n",
    "    print(my_str)\n"
   ]
  },
  {
   "cell_type": "code",
   "execution_count": 42,
   "metadata": {
    "id": "dQ9YhBBc4m9V"
   },
   "outputs": [
    {
     "data": {
      "text/plain": [
       "'*********************Peck********************'"
      ]
     },
     "execution_count": 42,
     "metadata": {},
     "output_type": "execute_result"
    }
   ],
   "source": [
    "#Write a python program to find below output (implements rjust and ljust):-\n",
    "\n",
    "#Input:- 'Peter Piper Picked A Peck Of Pickled Peppers.', sub_str = 'Peck', \n",
    "#Output:- '*********************Peck********************'\n",
    "my_str = 'Peter Piper Picked A Peck Of Pickled Peppers.'\n",
    "sub_str = 'Peck'\n",
    "sub_str.rjust(my_str.index(sub_str)+4,'*').ljust(len(my_str),'*')\n"
   ]
  },
  {
   "cell_type": "code",
   "execution_count": null,
   "metadata": {
    "id": "w37BRLdt4tYT"
   },
   "outputs": [],
   "source": []
  },
  {
   "cell_type": "code",
   "execution_count": null,
   "metadata": {
    "id": "W64gCpeu4vaF"
   },
   "outputs": [],
   "source": []
  }
 ],
 "metadata": {
  "colab": {
   "collapsed_sections": [],
   "name": "String_Assignment.ipynb",
   "provenance": []
  },
  "kernelspec": {
   "display_name": "Python 3",
   "language": "python",
   "name": "python3"
  },
  "language_info": {
   "codemirror_mode": {
    "name": "ipython",
    "version": 3
   },
   "file_extension": ".py",
   "mimetype": "text/x-python",
   "name": "python",
   "nbconvert_exporter": "python",
   "pygments_lexer": "ipython3",
   "version": "3.8.5"
  },
  "latex_envs": {
   "LaTeX_envs_menu_present": true,
   "autoclose": false,
   "autocomplete": true,
   "bibliofile": "biblio.bib",
   "cite_by": "apalike",
   "current_citInitial": 1,
   "eqLabelWithNumbers": true,
   "eqNumInitial": 1,
   "hotkeys": {
    "equation": "Ctrl-E",
    "itemize": "Ctrl-I"
   },
   "labels_anchors": false,
   "latex_user_defs": false,
   "report_style_numbering": false,
   "user_envs_cfg": false
  },
  "varInspector": {
   "cols": {
    "lenName": 16,
    "lenType": 16,
    "lenVar": 40
   },
   "kernels_config": {
    "python": {
     "delete_cmd_postfix": "",
     "delete_cmd_prefix": "del ",
     "library": "var_list.py",
     "varRefreshCmd": "print(var_dic_list())"
    },
    "r": {
     "delete_cmd_postfix": ") ",
     "delete_cmd_prefix": "rm(",
     "library": "var_list.r",
     "varRefreshCmd": "cat(var_dic_list()) "
    }
   },
   "types_to_exclude": [
    "module",
    "function",
    "builtin_function_or_method",
    "instance",
    "_Feature"
   ],
   "window_display": false
  }
 },
 "nbformat": 4,
 "nbformat_minor": 1
}
