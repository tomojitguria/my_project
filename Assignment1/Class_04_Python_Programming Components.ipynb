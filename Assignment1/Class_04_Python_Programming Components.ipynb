{
 "cells": [
  {
   "cell_type": "code",
   "execution_count": 10,
   "metadata": {
    "ExecuteTime": {
     "end_time": "2021-05-20T03:03:04.964561Z",
     "start_time": "2021-05-20T03:03:04.942695Z"
    }
   },
   "outputs": [],
   "source": [
    "# Sum of n Natural Number\n",
    "# Input = 3\n",
    "# Output = 6\n",
    "# Input = 5\n",
    "# Output = 15\n",
    "\n",
    "def sum_of_n_num(num):\n",
    "    i = 1\n",
    "    total = 0\n",
    "    while i <= num:\n",
    "        j = 1\n",
    "        while j <= i:\n",
    "            total += 1\n",
    "            j += 1\n",
    "        i += 1\n",
    "    return total\n",
    "\n",
    "\n",
    "\n",
    "        "
   ]
  },
  {
   "cell_type": "code",
   "execution_count": 11,
   "metadata": {
    "ExecuteTime": {
     "end_time": "2021-05-20T03:03:06.906188Z",
     "start_time": "2021-05-20T03:03:06.887890Z"
    }
   },
   "outputs": [
    {
     "data": {
      "text/plain": [
       "0"
      ]
     },
     "execution_count": 11,
     "metadata": {},
     "output_type": "execute_result"
    }
   ],
   "source": [
    "sum_of_n_num(5)"
   ]
  },
  {
   "cell_type": "code",
   "execution_count": 8,
   "metadata": {
    "ExecuteTime": {
     "end_time": "2021-05-20T02:47:56.601473Z",
     "start_time": "2021-05-20T02:47:56.594861Z"
    }
   },
   "outputs": [
    {
     "name": "stdout",
     "output_type": "stream",
     "text": [
      "30\n"
     ]
    }
   ],
   "source": [
    "print(10+20)"
   ]
  },
  {
   "cell_type": "code",
   "execution_count": 6,
   "metadata": {
    "ExecuteTime": {
     "end_time": "2021-05-20T02:47:47.876725Z",
     "start_time": "2021-05-20T02:47:47.635509Z"
    }
   },
   "outputs": [
    {
     "ename": "TypeError",
     "evalue": "'a' is an invalid keyword argument for print()",
     "output_type": "error",
     "traceback": [
      "\u001b[0;31m---------------------------------------------------------------------------\u001b[0m",
      "\u001b[0;31mTypeError\u001b[0m                                 Traceback (most recent call last)",
      "\u001b[0;32m<ipython-input-6-a46c3ff3c877>\u001b[0m in \u001b[0;36m<module>\u001b[0;34m\u001b[0m\n\u001b[0;32m----> 1\u001b[0;31m \u001b[0mprint\u001b[0m\u001b[0;34m(\u001b[0m\u001b[0ma\u001b[0m \u001b[0;34m=\u001b[0m \u001b[0;36m10\u001b[0m\u001b[0;34m)\u001b[0m\u001b[0;34m\u001b[0m\u001b[0;34m\u001b[0m\u001b[0m\n\u001b[0m",
      "\u001b[0;31mTypeError\u001b[0m: 'a' is an invalid keyword argument for print()"
     ]
    }
   ],
   "source": [
    "print(a = 10)"
   ]
  },
  {
   "cell_type": "code",
   "execution_count": 9,
   "metadata": {
    "ExecuteTime": {
     "end_time": "2021-05-20T02:57:09.269525Z",
     "start_time": "2021-05-20T02:57:09.251765Z"
    }
   },
   "outputs": [
    {
     "data": {
      "text/plain": [
       "10"
      ]
     },
     "execution_count": 9,
     "metadata": {},
     "output_type": "execute_result"
    }
   ],
   "source": [
    "10"
   ]
  },
  {
   "cell_type": "code",
   "execution_count": 20,
   "metadata": {
    "ExecuteTime": {
     "end_time": "2021-05-20T03:12:53.570489Z",
     "start_time": "2021-05-20T03:12:53.562220Z"
    }
   },
   "outputs": [
    {
     "name": "stdout",
     "output_type": "stream",
     "text": [
      "['__abs__', '__add__', '__and__', '__bool__', '__ceil__', '__class__', '__delattr__', '__dir__', '__divmod__', '__doc__', '__eq__', '__float__', '__floor__', '__floordiv__', '__format__', '__ge__', '__getattribute__', '__getnewargs__', '__gt__', '__hash__', '__index__', '__init__', '__init_subclass__', '__int__', '__invert__', '__le__', '__lshift__', '__lt__', '__mod__', '__mul__', '__ne__', '__neg__', '__new__', '__or__', '__pos__', '__pow__', '__radd__', '__rand__', '__rdivmod__', '__reduce__', '__reduce_ex__', '__repr__', '__rfloordiv__', '__rlshift__', '__rmod__', '__rmul__', '__ror__', '__round__', '__rpow__', '__rrshift__', '__rshift__', '__rsub__', '__rtruediv__', '__rxor__', '__setattr__', '__sizeof__', '__str__', '__sub__', '__subclasshook__', '__truediv__', '__trunc__', '__xor__', 'as_integer_ratio', 'bit_length', 'conjugate', 'denominator', 'from_bytes', 'imag', 'numerator', 'real', 'to_bytes']\n"
     ]
    }
   ],
   "source": [
    "# Identifiers - Name given to variable, constants, function, class object s etc.\n",
    "# Rules to define an identifier\n",
    "#     1. Allowed characters - A-Z, a-z, 0-9, _\n",
    "#     2. Special characters are not allowed\n",
    "#     3. Identifiers shoudl not start with a number\n",
    "#     4. Identifiers are case sensitive.\n",
    "    \n",
    "# Recommendations for defining an identifier\n",
    "#     1. Keywords should not be used as an identifier.\n",
    "#     2. Constant name should be using only capital case letters.\n",
    "#     3. Class anme should use pascalNotation.\n",
    "#     4. You should not use any name which starts and ends with __.\n",
    "    \n",
    "print(dir(int))  \n",
    "    \n",
    "# __xyz__\n",
    "# __abc__"
   ]
  },
  {
   "cell_type": "code",
   "execution_count": 13,
   "metadata": {
    "ExecuteTime": {
     "end_time": "2021-05-20T03:05:58.269863Z",
     "start_time": "2021-05-20T03:05:58.254129Z"
    }
   },
   "outputs": [
    {
     "name": "stdout",
     "output_type": "stream",
     "text": [
      "100\n",
      "1000\n"
     ]
    }
   ],
   "source": [
    "num = 100\n",
    "Num = 1000\n",
    "num1 = 90\n",
    "print(num)\n",
    "print(Num)"
   ]
  },
  {
   "cell_type": "code",
   "execution_count": 14,
   "metadata": {
    "ExecuteTime": {
     "end_time": "2021-05-20T03:06:53.876402Z",
     "start_time": "2021-05-20T03:06:53.869565Z"
    }
   },
   "outputs": [
    {
     "name": "stdout",
     "output_type": "stream",
     "text": [
      "['False', 'None', 'True', 'and', 'as', 'assert', 'async', 'await', 'break', 'class', 'continue', 'def', 'del', 'elif', 'else', 'except', 'finally', 'for', 'from', 'global', 'if', 'import', 'in', 'is', 'lambda', 'nonlocal', 'not', 'or', 'pass', 'raise', 'return', 'try', 'while', 'with', 'yield']\n"
     ]
    }
   ],
   "source": [
    "import keyword\n",
    "print(keyword.kwlist)\n",
    "\n",
    "# ['False', 'None', 'True', 'and', 'as', 'assert', 'async', 'await', 'break', 'class', 'continue', 'def', \n",
    "#  'del', 'elif', 'else', 'except', 'finally', 'for', 'from', 'global', 'if', 'import', 'in', 'is', 'lambda', \n",
    "#  'nonlocal', 'not', 'or', 'pass', 'raise', 'return', 'try', 'while', 'with', 'yield']"
   ]
  },
  {
   "cell_type": "code",
   "execution_count": 16,
   "metadata": {
    "ExecuteTime": {
     "end_time": "2021-05-20T03:07:41.226705Z",
     "start_time": "2021-05-20T03:07:41.214972Z"
    }
   },
   "outputs": [],
   "source": [
    "# for = 100\n",
    "For = 100"
   ]
  },
  {
   "cell_type": "code",
   "execution_count": 27,
   "metadata": {
    "ExecuteTime": {
     "end_time": "2021-05-20T03:20:19.190319Z",
     "start_time": "2021-05-20T03:20:19.183519Z"
    }
   },
   "outputs": [],
   "source": [
    "# help(int)\n",
    "# dir(int)\n",
    "# help('for')"
   ]
  },
  {
   "cell_type": "code",
   "execution_count": 62,
   "metadata": {
    "ExecuteTime": {
     "end_time": "2021-05-20T03:40:59.266670Z",
     "start_time": "2021-05-20T03:40:54.426018Z"
    }
   },
   "outputs": [
    {
     "name": "stdout",
     "output_type": "stream",
     "text": [
      "Enter your First Name: Learnbay\n",
      "Enter your Last Name: Python\n",
      "Your first name is Learnbay Your last name is Python and your full name is Learnbay Python\n"
     ]
    }
   ],
   "source": [
    "# input() - it is used to takeyhe input from user\n",
    "# By default it converts every input to string type\n",
    "# num1 = int(input('Enter a number: '))\n",
    "# num2 = int(input('Enter a number: '))\n",
    "# print(num1, type(num1))\n",
    "# print(num2, type(num2))\n",
    "# print(num1+num2)\n",
    "\n",
    "# When we take a list as input and try to convert the input to list type using list function\n",
    "# lst = [10,20,30,40]\n",
    "# print(lst, type(lst))\n",
    "# print(lst[0])\n",
    "# print(lst[-1])\n",
    "\n",
    "# lst = list([10,20,30,40])\n",
    "# print(lst[0])\n",
    "# print(lst[-1])\n",
    "\n",
    "# lst = list('Python')\n",
    "# print(lst)\n",
    "\n",
    "# lst = list('[10,20,30,40]')\n",
    "# print(lst)\n",
    "\n",
    "# lst = list(input('Enter a list: '))\n",
    "# print(lst, type(lst))\n",
    "# print(lst[-1])\n",
    "\n",
    "# lst = eval(input('Enter a list: '))\n",
    "# print(lst, type(lst))\n",
    "# print(lst[0])\n",
    "# print(lst[-1])\n",
    "\n",
    "# eval('\"10+20\"')\n",
    "# eval('[10,20,30,40]')\n",
    "\n",
    "# 10+20\n",
    "\n",
    "# Output Function - print()\n",
    "# print(10,20,30,40)\n",
    "# print(10,20,30,40, sep = '->')\n",
    "# print(10,20,30,40, sep = '::')\n",
    "\n",
    "# print(10)\n",
    "# print(20)\n",
    "# print(30)\n",
    "# print(40)\n",
    "\n",
    "# print(10, end = ' ')\n",
    "# print(20, end = '   ')\n",
    "# print(30, end = '     ')\n",
    "# print(40, end = ' ')\n",
    "\n",
    "\n",
    "# Formatting the output\n",
    "# fname = input('Enter your First Name: ')\n",
    "# lname = input('Enter your Last Name: ')\n",
    "# # print('Your first name is ', fname, 'Your last name is ', lname, 'and your full name is ', fname+lname)\n",
    "# print(f'Your first name is {fname} Your last name is {lname} and your full name is {fname + \" \" + lname}')\n"
   ]
  },
  {
   "cell_type": "code",
   "execution_count": null,
   "metadata": {},
   "outputs": [],
   "source": [
    "# Python Data Types \n",
    "    # Fundamental Data Types - Integers, Floats, Complex, Strings, Boolean\n",
    "    # Derived Data Types - List, Tuple, Dictionary, range, Set, Frozenset, bytes, bytearray"
   ]
  },
  {
   "cell_type": "code",
   "execution_count": 71,
   "metadata": {
    "ExecuteTime": {
     "end_time": "2021-05-20T03:50:40.038636Z",
     "start_time": "2021-05-20T03:50:38.194267Z"
    }
   },
   "outputs": [
    {
     "name": "stdout",
     "output_type": "stream",
     "text": [
      "Enter 1st number: 10\n",
      "Enter 2nd number: 20\n",
      "sum of 10 and 20 is 30\n"
     ]
    }
   ],
   "source": [
    "# Fundamental Data Types\n",
    "\n",
    "# Integer - Any number without decimal Point\n",
    "# 10, 0, -10\n",
    "# type(10)\n",
    "# id(a)\n",
    "# dir(10)\n",
    "\n",
    "# a = 10\n",
    "# print(a, type(a), id(a))\n",
    "# print(dir(a))\n",
    "\n",
    "# Arithmetic Operations - +, -, *, /(Float Division), //(Floor Division), **(Exponent), %(modulo)\n",
    "num1 = int(input('Enter 1st number: '))\n",
    "num2 = int(input('Enter 2nd number: '))\n",
    "print(f'sum of {num1} and {num2} is {num1+num2}')\n",
    "# print(f'difference of {num1} and {num2} is {num1-num2}')\n",
    "# print(f'product of {num1} and {num2} is {num1*num2}')\n",
    "# print(f'Division result of {num1} and {num2} is {num1/num2}')   # Float Division\n",
    "# print(f'Quotient result of {num1} and {num2} is {num1//num2}')  # Floor Division\n",
    "# print(f'Remainder result of {num1} and {num2} is {num1%num2}')\n",
    "# print(f'{num1} to the power {num2} is {num1** num2}')\n",
    "\n",
    "# Floor is Lowest nearest whole number\n",
    "# Higest nearest whole number = 4  => Ceil\n",
    "# num = 3.9\n",
    "# Lowest nearest whole number = 3  => Floor\n",
    "\n",
    "# import math\n",
    "# print(math.ceil(3.9))\n",
    "\n"
   ]
  },
  {
   "cell_type": "code",
   "execution_count": 76,
   "metadata": {
    "ExecuteTime": {
     "end_time": "2021-05-20T03:54:34.082267Z",
     "start_time": "2021-05-20T03:54:34.068030Z"
    }
   },
   "outputs": [
    {
     "name": "stdout",
     "output_type": "stream",
     "text": [
      "True\n",
      "True\n",
      "False\n"
     ]
    }
   ],
   "source": [
    "# Comparison Operator - <, <=, >, >=\n",
    "# Boolean Value - True or False\n",
    "# Only works with instances of similar type except int and float\n",
    "\n",
    "print(10<20)\n",
    "print(10<20.30)\n",
    "# print('A'<=65)\n",
    "# print('Aa'<'Ab')\n",
    "\n",
    "print(10<20<=20>5<5)\n",
    "\n",
    "\n"
   ]
  },
  {
   "cell_type": "code",
   "execution_count": 91,
   "metadata": {
    "ExecuteTime": {
     "end_time": "2021-05-20T03:59:24.057355Z",
     "start_time": "2021-05-20T03:59:24.050999Z"
    }
   },
   "outputs": [],
   "source": [
    "# Equalirty Operator - ==, !=\n",
    "# Also returns Boolean values - True and False\n",
    "# This operatir compares the content\n",
    "# This operator works between instances of different type\n",
    "\n",
    "# a = 10\n",
    "# b = 10\n",
    "# print(a == b)\n",
    "# print(a != b)\n",
    "\n",
    "# a = 'Python'\n",
    "# b = 'python'\n",
    "# print(a == b)\n",
    "# print(a != b)\n",
    "\n",
    "# a = 65\n",
    "# b = 'A'\n",
    "# print(a == b)\n",
    "# print(a == ord(b))\n",
    "\n",
    "# ord('char') -> Returns the corresponding code point from ASCII Table\n",
    "# print(ord('z'))\n",
    "\n",
    "# chr(asccii code point) -> Coresponding chracters\n",
    "# print(chr(97))\n",
    "# print(chr(61))\n",
    "\n"
   ]
  },
  {
   "cell_type": "code",
   "execution_count": 111,
   "metadata": {
    "ExecuteTime": {
     "end_time": "2021-05-20T04:17:47.789473Z",
     "start_time": "2021-05-20T04:17:47.773986Z"
    },
    "scrolled": true
   },
   "outputs": [
    {
     "name": "stdout",
     "output_type": "stream",
     "text": [
      "10\n",
      "10\n",
      "20\n",
      "0.0\n"
     ]
    }
   ],
   "source": [
    "# Logical Operator - and, or, not\n",
    "# Also returns Boolean Value - True False\n",
    "# These operators works with Logic\n",
    "# Logic eventually will be evaluated either as True or False\n",
    "\n",
    "# and Truth Table - False\n",
    "# True and True = True\n",
    "# True and False = False\n",
    "# False and True = False\n",
    "# False and False = False\n",
    "\n",
    "# or Truth Table - True\n",
    "# True or True = True\n",
    "# True or False = True\n",
    "# False or True = True\n",
    "# False or False = False\n",
    "\n",
    "# Not Truth Tabel\n",
    "# not True = False\n",
    "# not False = True\n",
    "\n",
    "# year = int(input('Enter an year: '))\n",
    "# if ((year%400 == 0) or (year%4 == 0 and year%100 != 0)):\n",
    "#     print('Year is Leap Year')\n",
    "# else:\n",
    "#     print('Year is not a leap Year')\n",
    "\n",
    "\n",
    "# year = 1600 => (True or (True and False)) => (True or False) => True => 'Year is Leap Year'\n",
    "# year = 1800 => (False or (True and False)) => (False or False) => False => 'Year is not a Leap Year'\n",
    "# year = 2004 => (False or (True and True)) => (False or True) => True => 'Year is Leap Year'\n",
    "# year = 1967 => (False or (False and True)) => (False or False) => False => 'Year is not a Leap Year'\n",
    "\n",
    "# A and B are some data\n",
    "# A and B => Result is A if A is False else result is B\n",
    "# A or B => Result is A if A is True else result is B\n",
    "\n",
    "# Int = Apart from 0 everything is True\n",
    "# Float = Apart from 0.0 everything is True\n",
    "# Complex = 0.0+0.0j everything is true\n",
    "# String = '' is aleays False rest all True\n",
    "# list, tuple, set, dict = [], (), set(), dict() = False rest all True\n",
    "# print(bool([]))\n",
    "# print(bool(''))\n",
    "# print(bool(0))\n",
    "# print(bool(0.0+0.0j))\n",
    "\n",
    "# print(bool(0.1))\n",
    "# print(bool(0.1j))\n",
    "\n",
    "# A and B are some data\n",
    "# A and B => Result is A if A is False else result is B\n",
    "# A or B => Result is A if A is True else result is B\n",
    "\n",
    "# print(10 and 20)\n",
    "# print(10 and 0)\n",
    "# print(0 and 20)\n",
    "# print(0 and 0.0)\n",
    "\n",
    "\n",
    "# print(10 or 20)\n",
    "# print(10 or 0)\n",
    "# print(0 or 20)\n",
    "# print(0 or 0.0)\n"
   ]
  },
  {
   "cell_type": "code",
   "execution_count": 105,
   "metadata": {
    "ExecuteTime": {
     "end_time": "2021-05-20T04:16:00.127149Z",
     "start_time": "2021-05-20T04:16:00.109761Z"
    }
   },
   "outputs": [
    {
     "data": {
      "text/plain": [
       "True"
      ]
     },
     "execution_count": 105,
     "metadata": {},
     "output_type": "execute_result"
    }
   ],
   "source": [
    "bool(10)"
   ]
  },
  {
   "cell_type": "code",
   "execution_count": null,
   "metadata": {},
   "outputs": [],
   "source": []
  },
  {
   "cell_type": "code",
   "execution_count": null,
   "metadata": {},
   "outputs": [],
   "source": []
  },
  {
   "cell_type": "code",
   "execution_count": null,
   "metadata": {},
   "outputs": [],
   "source": []
  },
  {
   "cell_type": "code",
   "execution_count": null,
   "metadata": {},
   "outputs": [],
   "source": []
  },
  {
   "cell_type": "code",
   "execution_count": null,
   "metadata": {},
   "outputs": [],
   "source": []
  },
  {
   "cell_type": "code",
   "execution_count": null,
   "metadata": {},
   "outputs": [],
   "source": []
  },
  {
   "cell_type": "code",
   "execution_count": null,
   "metadata": {},
   "outputs": [],
   "source": []
  },
  {
   "cell_type": "code",
   "execution_count": null,
   "metadata": {},
   "outputs": [],
   "source": []
  },
  {
   "cell_type": "code",
   "execution_count": null,
   "metadata": {},
   "outputs": [],
   "source": []
  },
  {
   "cell_type": "code",
   "execution_count": null,
   "metadata": {},
   "outputs": [],
   "source": []
  },
  {
   "cell_type": "code",
   "execution_count": null,
   "metadata": {},
   "outputs": [],
   "source": []
  },
  {
   "cell_type": "code",
   "execution_count": null,
   "metadata": {},
   "outputs": [],
   "source": []
  },
  {
   "cell_type": "code",
   "execution_count": null,
   "metadata": {},
   "outputs": [],
   "source": []
  },
  {
   "cell_type": "code",
   "execution_count": null,
   "metadata": {},
   "outputs": [],
   "source": []
  },
  {
   "cell_type": "code",
   "execution_count": null,
   "metadata": {},
   "outputs": [],
   "source": []
  },
  {
   "cell_type": "code",
   "execution_count": null,
   "metadata": {},
   "outputs": [],
   "source": []
  },
  {
   "cell_type": "code",
   "execution_count": null,
   "metadata": {},
   "outputs": [],
   "source": []
  },
  {
   "cell_type": "code",
   "execution_count": null,
   "metadata": {},
   "outputs": [],
   "source": []
  },
  {
   "cell_type": "code",
   "execution_count": null,
   "metadata": {},
   "outputs": [],
   "source": []
  },
  {
   "cell_type": "code",
   "execution_count": null,
   "metadata": {},
   "outputs": [],
   "source": []
  },
  {
   "cell_type": "code",
   "execution_count": null,
   "metadata": {},
   "outputs": [],
   "source": []
  },
  {
   "cell_type": "code",
   "execution_count": null,
   "metadata": {},
   "outputs": [],
   "source": []
  },
  {
   "cell_type": "code",
   "execution_count": null,
   "metadata": {},
   "outputs": [],
   "source": []
  }
 ],
 "metadata": {
  "kernelspec": {
   "display_name": "Python 3",
   "language": "python",
   "name": "python3"
  },
  "language_info": {
   "codemirror_mode": {
    "name": "ipython",
    "version": 3
   },
   "file_extension": ".py",
   "mimetype": "text/x-python",
   "name": "python",
   "nbconvert_exporter": "python",
   "pygments_lexer": "ipython3",
   "version": "3.8.5"
  },
  "latex_envs": {
   "LaTeX_envs_menu_present": true,
   "autoclose": false,
   "autocomplete": true,
   "bibliofile": "biblio.bib",
   "cite_by": "apalike",
   "current_citInitial": 1,
   "eqLabelWithNumbers": true,
   "eqNumInitial": 1,
   "hotkeys": {
    "equation": "Ctrl-E",
    "itemize": "Ctrl-I"
   },
   "labels_anchors": false,
   "latex_user_defs": false,
   "report_style_numbering": false,
   "user_envs_cfg": false
  },
  "varInspector": {
   "cols": {
    "lenName": 16,
    "lenType": 16,
    "lenVar": 40
   },
   "kernels_config": {
    "python": {
     "delete_cmd_postfix": "",
     "delete_cmd_prefix": "del ",
     "library": "var_list.py",
     "varRefreshCmd": "print(var_dic_list())"
    },
    "r": {
     "delete_cmd_postfix": ") ",
     "delete_cmd_prefix": "rm(",
     "library": "var_list.r",
     "varRefreshCmd": "cat(var_dic_list()) "
    }
   },
   "types_to_exclude": [
    "module",
    "function",
    "builtin_function_or_method",
    "instance",
    "_Feature"
   ],
   "window_display": false
  }
 },
 "nbformat": 4,
 "nbformat_minor": 2
}
